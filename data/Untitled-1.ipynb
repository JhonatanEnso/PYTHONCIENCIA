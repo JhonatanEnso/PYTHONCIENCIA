{
 "cells": [
  {
   "cell_type": "markdown",
   "metadata": {},
   "source": [
    "# Importar Bibliotecas Necesarias\n",
    "Importar las bibliotecas necesarias, incluyendo pandas y matplotlib."
   ]
  },
  {
   "cell_type": "code",
   "execution_count": null,
   "metadata": {},
   "outputs": [
    {
     "name": "stdout",
     "output_type": "stream",
     "text": [
      "Collecting matplotlib\n",
      "  Downloading matplotlib-3.10.1-cp313-cp313-macosx_11_0_arm64.whl.metadata (11 kB)\n",
      "Collecting contourpy>=1.0.1 (from matplotlib)\n",
      "  Downloading contourpy-1.3.1-cp313-cp313-macosx_11_0_arm64.whl.metadata (5.4 kB)\n",
      "Collecting cycler>=0.10 (from matplotlib)\n",
      "  Downloading cycler-0.12.1-py3-none-any.whl.metadata (3.8 kB)\n",
      "Collecting fonttools>=4.22.0 (from matplotlib)\n",
      "  Downloading fonttools-4.56.0-cp313-cp313-macosx_10_13_universal2.whl.metadata (101 kB)\n",
      "Collecting kiwisolver>=1.3.1 (from matplotlib)\n",
      "  Downloading kiwisolver-1.4.8-cp313-cp313-macosx_11_0_arm64.whl.metadata (6.2 kB)\n",
      "Requirement already satisfied: numpy>=1.23 in ./.venv/lib/python3.13/site-packages (from matplotlib) (2.2.3)\n",
      "Requirement already satisfied: packaging>=20.0 in ./.venv/lib/python3.13/site-packages (from matplotlib) (24.2)\n",
      "Collecting pillow>=8 (from matplotlib)\n",
      "  Using cached pillow-11.1.0-cp313-cp313-macosx_11_0_arm64.whl.metadata (9.1 kB)\n",
      "Collecting pyparsing>=2.3.1 (from matplotlib)\n",
      "  Downloading pyparsing-3.2.1-py3-none-any.whl.metadata (5.0 kB)\n",
      "Requirement already satisfied: python-dateutil>=2.7 in ./.venv/lib/python3.13/site-packages (from matplotlib) (2.9.0.post0)\n",
      "Requirement already satisfied: six>=1.5 in ./.venv/lib/python3.13/site-packages (from python-dateutil>=2.7->matplotlib) (1.17.0)\n",
      "Downloading matplotlib-3.10.1-cp313-cp313-macosx_11_0_arm64.whl (8.0 MB)\n",
      "\u001b[2K   \u001b[90m━━━━━━━━━━━━━━━━━━━━━━━━━━━━━━━━━━━━━━━━\u001b[0m \u001b[32m8.0/8.0 MB\u001b[0m \u001b[31m48.3 MB/s\u001b[0m eta \u001b[36m0:00:00\u001b[0m\n",
      "\u001b[?25hDownloading contourpy-1.3.1-cp313-cp313-macosx_11_0_arm64.whl (255 kB)\n",
      "Downloading cycler-0.12.1-py3-none-any.whl (8.3 kB)\n",
      "Downloading fonttools-4.56.0-cp313-cp313-macosx_10_13_universal2.whl (2.7 MB)\n",
      "\u001b[2K   \u001b[90m━━━━━━━━━━━━━━━━━━━━━━━━━━━━━━━━━━━━━━━━\u001b[0m \u001b[32m2.7/2.7 MB\u001b[0m \u001b[31m63.8 MB/s\u001b[0m eta \u001b[36m0:00:00\u001b[0m\n",
      "\u001b[?25hDownloading kiwisolver-1.4.8-cp313-cp313-macosx_11_0_arm64.whl (65 kB)\n",
      "Using cached pillow-11.1.0-cp313-cp313-macosx_11_0_arm64.whl (3.1 MB)\n",
      "Downloading pyparsing-3.2.1-py3-none-any.whl (107 kB)\n",
      "Installing collected packages: pyparsing, pillow, kiwisolver, fonttools, cycler, contourpy, matplotlib\n",
      "Successfully installed contourpy-1.3.1 cycler-0.12.1 fonttools-4.56.0 kiwisolver-1.4.8 matplotlib-3.10.1 pillow-11.1.0 pyparsing-3.2.1\n",
      "Note: you may need to restart the kernel to use updated packages.\n"
     ]
    },
    {
     "name": "stderr",
     "output_type": "stream",
     "text": [
      "Matplotlib is building the font cache; this may take a moment.\n"
     ]
    }
   ],
   "source": [
    "# Importar las bibliotecas necesarias, incluyendo pandas y matplotlib\n",
    "import pandas as pd\n",
    "import numpy as np\n",
    "\n",
    "# Instalar matplotlib si no está instalado\n",
    "%pip install matplotlib\n",
    "import matplotlib.pyplot as plt\n",
    "\n",
    "# Configurar los gráficos para que se muestren en el notebook\n",
    "%matplotlib inline"
   ]
  },
  {
   "cell_type": "markdown",
   "metadata": {},
   "source": [
    "# Cargar Datos\n",
    "Cargar los datos desde un archivo CSV u otra fuente de datos."
   ]
  },
  {
   "cell_type": "code",
   "execution_count": 8,
   "metadata": {},
   "outputs": [
    {
     "data": {
      "application/vnd.microsoft.datawrangler.viewer.v0+json": {
       "columns": [
        {
         "name": "index",
         "rawType": "int64",
         "type": "integer"
        },
        {
         "name": "titulo",
         "rawType": "object",
         "type": "string"
        },
        {
         "name": "year",
         "rawType": "int64",
         "type": "integer"
        },
        {
         "name": "duracion",
         "rawType": "int64",
         "type": "integer"
        },
        {
         "name": "presupuesto",
         "rawType": "int64",
         "type": "integer"
        },
        {
         "name": "recaudacion",
         "rawType": "int64",
         "type": "integer"
        },
        {
         "name": "personajes",
         "rawType": "object",
         "type": "string"
        },
        {
         "name": "valoracion",
         "rawType": "float64",
         "type": "float"
        }
       ],
       "conversionMethod": "pd.DataFrame",
       "ref": "4afc9179-1909-41f5-9d08-da368ce67f0b",
       "rows": [
        [
         "0",
         "Iron Man",
         "2008",
         "126",
         "140",
         "585",
         "Iron Man, Pepper Potts, Obadiah Stane",
         "7.9"
        ],
        [
         "1",
         "The Avengers",
         "2012",
         "143",
         "220",
         "1518",
         "Iron Man, Capitan America, Thor, Hulk",
         "8.0"
        ],
        [
         "2",
         "Black Panther",
         "2018",
         "134",
         "200",
         "1347",
         "Black Panther, T'Challa, Killmonger, Shuri",
         "7.3"
        ],
        [
         "3",
         "Avengers: Infinity War",
         "2018",
         "149",
         "316",
         "2052",
         "Iron Man, Capitan America, Thor, Thanos, Spiderman, Hulk, Viuda Negra, Ojo de Halcón, Bruja Escarlata, Doctor Strange, Star-Lord, Gamora, Drax, Rocket, Groot",
         "7.5"
        ],
        [
         "4",
         "Avengers: Endgame",
         "2019",
         "181",
         "356",
         "2798",
         "Iron Man, Capitan America, Thor, Thanos, Spiderman, Hulk, Viuda Negra, Ojo de Halcón, Bruja Escarlata, Doctor Strange, Star-Lord, Gamora, Drax, Rocket, Groot",
         "8.4"
        ],
        [
         "5",
         "SpiderMan: No Way Home",
         "2021",
         "148",
         "200",
         "1921",
         "Spiderman, Doctor Strange, Green Goblin",
         "8.2"
        ],
        [
         "6",
         "Guardians of the Galaxy",
         "2014",
         "121",
         "170",
         "773",
         "Star-Lord, Gamora, Drax, Rocket, Groot",
         "8.0"
        ],
        [
         "7",
         "Doctor Strange",
         "2016",
         "115",
         "165",
         "677",
         "Stephen Strange, Wong, Mordo",
         "7.5"
        ],
        [
         "8",
         "Thor: Ragnarok",
         "2017",
         "130",
         "180",
         "854",
         "Thor, Loki, Hela, Hulk",
         "7.9"
        ],
        [
         "9",
         "Captain Marvel",
         "2019",
         "123",
         "152",
         "1128",
         "Carol Danvers, Nick Fury, Talos",
         "6.8"
        ],
        [
         "10",
         "Ant-Man and the Wasp",
         "2018",
         "118",
         "130",
         "622",
         "Scott Lang, Hope van Dyne, Hank Pym",
         "7.0"
        ],
        [
         "11",
         "Guardianes de la Galaxia vol. 2",
         "2017",
         "136",
         "200",
         "863",
         "Star-Lord, Gamora, Drax, Rocket, Groot, Mantis, Thanos",
         "6.7"
        ],
        [
         "12",
         "Eternals",
         "2021",
         "156",
         "236",
         "402",
         "Caballero negro, Ikaris, Ajak, Sprite, Thena, Kro, Sersi",
         "5.4"
        ],
        [
         "13",
         "Thor: Love and Thunder",
         "2022",
         "119",
         "250",
         "760",
         "Gorr, Thor, Zeus, Korg, King Valkyrie, Heimdall",
         "5.3"
        ]
       ],
       "shape": {
        "columns": 7,
        "rows": 14
       }
      },
      "text/html": [
       "<div>\n",
       "<style scoped>\n",
       "    .dataframe tbody tr th:only-of-type {\n",
       "        vertical-align: middle;\n",
       "    }\n",
       "\n",
       "    .dataframe tbody tr th {\n",
       "        vertical-align: top;\n",
       "    }\n",
       "\n",
       "    .dataframe thead th {\n",
       "        text-align: right;\n",
       "    }\n",
       "</style>\n",
       "<table border=\"1\" class=\"dataframe\">\n",
       "  <thead>\n",
       "    <tr style=\"text-align: right;\">\n",
       "      <th></th>\n",
       "      <th>titulo</th>\n",
       "      <th>year</th>\n",
       "      <th>duracion</th>\n",
       "      <th>presupuesto</th>\n",
       "      <th>recaudacion</th>\n",
       "      <th>personajes</th>\n",
       "      <th>valoracion</th>\n",
       "    </tr>\n",
       "  </thead>\n",
       "  <tbody>\n",
       "    <tr>\n",
       "      <th>0</th>\n",
       "      <td>Iron Man</td>\n",
       "      <td>2008</td>\n",
       "      <td>126</td>\n",
       "      <td>140</td>\n",
       "      <td>585</td>\n",
       "      <td>Iron Man, Pepper Potts, Obadiah Stane</td>\n",
       "      <td>7.9</td>\n",
       "    </tr>\n",
       "    <tr>\n",
       "      <th>1</th>\n",
       "      <td>The Avengers</td>\n",
       "      <td>2012</td>\n",
       "      <td>143</td>\n",
       "      <td>220</td>\n",
       "      <td>1518</td>\n",
       "      <td>Iron Man, Capitan America, Thor, Hulk</td>\n",
       "      <td>8.0</td>\n",
       "    </tr>\n",
       "    <tr>\n",
       "      <th>2</th>\n",
       "      <td>Black Panther</td>\n",
       "      <td>2018</td>\n",
       "      <td>134</td>\n",
       "      <td>200</td>\n",
       "      <td>1347</td>\n",
       "      <td>Black Panther, T'Challa, Killmonger, Shuri</td>\n",
       "      <td>7.3</td>\n",
       "    </tr>\n",
       "    <tr>\n",
       "      <th>3</th>\n",
       "      <td>Avengers: Infinity War</td>\n",
       "      <td>2018</td>\n",
       "      <td>149</td>\n",
       "      <td>316</td>\n",
       "      <td>2052</td>\n",
       "      <td>Iron Man, Capitan America, Thor, Thanos, Spide...</td>\n",
       "      <td>7.5</td>\n",
       "    </tr>\n",
       "    <tr>\n",
       "      <th>4</th>\n",
       "      <td>Avengers: Endgame</td>\n",
       "      <td>2019</td>\n",
       "      <td>181</td>\n",
       "      <td>356</td>\n",
       "      <td>2798</td>\n",
       "      <td>Iron Man, Capitan America, Thor, Thanos, Spide...</td>\n",
       "      <td>8.4</td>\n",
       "    </tr>\n",
       "    <tr>\n",
       "      <th>5</th>\n",
       "      <td>SpiderMan: No Way Home</td>\n",
       "      <td>2021</td>\n",
       "      <td>148</td>\n",
       "      <td>200</td>\n",
       "      <td>1921</td>\n",
       "      <td>Spiderman, Doctor Strange, Green Goblin</td>\n",
       "      <td>8.2</td>\n",
       "    </tr>\n",
       "    <tr>\n",
       "      <th>6</th>\n",
       "      <td>Guardians of the Galaxy</td>\n",
       "      <td>2014</td>\n",
       "      <td>121</td>\n",
       "      <td>170</td>\n",
       "      <td>773</td>\n",
       "      <td>Star-Lord, Gamora, Drax, Rocket, Groot</td>\n",
       "      <td>8.0</td>\n",
       "    </tr>\n",
       "    <tr>\n",
       "      <th>7</th>\n",
       "      <td>Doctor Strange</td>\n",
       "      <td>2016</td>\n",
       "      <td>115</td>\n",
       "      <td>165</td>\n",
       "      <td>677</td>\n",
       "      <td>Stephen Strange, Wong, Mordo</td>\n",
       "      <td>7.5</td>\n",
       "    </tr>\n",
       "    <tr>\n",
       "      <th>8</th>\n",
       "      <td>Thor: Ragnarok</td>\n",
       "      <td>2017</td>\n",
       "      <td>130</td>\n",
       "      <td>180</td>\n",
       "      <td>854</td>\n",
       "      <td>Thor, Loki, Hela, Hulk</td>\n",
       "      <td>7.9</td>\n",
       "    </tr>\n",
       "    <tr>\n",
       "      <th>9</th>\n",
       "      <td>Captain Marvel</td>\n",
       "      <td>2019</td>\n",
       "      <td>123</td>\n",
       "      <td>152</td>\n",
       "      <td>1128</td>\n",
       "      <td>Carol Danvers, Nick Fury, Talos</td>\n",
       "      <td>6.8</td>\n",
       "    </tr>\n",
       "    <tr>\n",
       "      <th>10</th>\n",
       "      <td>Ant-Man and the Wasp</td>\n",
       "      <td>2018</td>\n",
       "      <td>118</td>\n",
       "      <td>130</td>\n",
       "      <td>622</td>\n",
       "      <td>Scott Lang, Hope van Dyne, Hank Pym</td>\n",
       "      <td>7.0</td>\n",
       "    </tr>\n",
       "    <tr>\n",
       "      <th>11</th>\n",
       "      <td>Guardianes de la Galaxia vol. 2</td>\n",
       "      <td>2017</td>\n",
       "      <td>136</td>\n",
       "      <td>200</td>\n",
       "      <td>863</td>\n",
       "      <td>Star-Lord, Gamora, Drax, Rocket, Groot, Mantis...</td>\n",
       "      <td>6.7</td>\n",
       "    </tr>\n",
       "    <tr>\n",
       "      <th>12</th>\n",
       "      <td>Eternals</td>\n",
       "      <td>2021</td>\n",
       "      <td>156</td>\n",
       "      <td>236</td>\n",
       "      <td>402</td>\n",
       "      <td>Caballero negro, Ikaris, Ajak, Sprite, Thena, ...</td>\n",
       "      <td>5.4</td>\n",
       "    </tr>\n",
       "    <tr>\n",
       "      <th>13</th>\n",
       "      <td>Thor: Love and Thunder</td>\n",
       "      <td>2022</td>\n",
       "      <td>119</td>\n",
       "      <td>250</td>\n",
       "      <td>760</td>\n",
       "      <td>Gorr, Thor, Zeus, Korg, King Valkyrie, Heimdall</td>\n",
       "      <td>5.3</td>\n",
       "    </tr>\n",
       "  </tbody>\n",
       "</table>\n",
       "</div>"
      ],
      "text/plain": [
       "                             titulo  year  duracion  presupuesto  recaudacion  \\\n",
       "0                          Iron Man  2008       126          140          585   \n",
       "1                      The Avengers  2012       143          220         1518   \n",
       "2                     Black Panther  2018       134          200         1347   \n",
       "3            Avengers: Infinity War  2018       149          316         2052   \n",
       "4                 Avengers: Endgame  2019       181          356         2798   \n",
       "5            SpiderMan: No Way Home  2021       148          200         1921   \n",
       "6           Guardians of the Galaxy  2014       121          170          773   \n",
       "7                    Doctor Strange  2016       115          165          677   \n",
       "8                    Thor: Ragnarok  2017       130          180          854   \n",
       "9                    Captain Marvel  2019       123          152         1128   \n",
       "10             Ant-Man and the Wasp  2018       118          130          622   \n",
       "11  Guardianes de la Galaxia vol. 2  2017       136          200          863   \n",
       "12                         Eternals  2021       156          236          402   \n",
       "13           Thor: Love and Thunder  2022       119          250          760   \n",
       "\n",
       "                                           personajes  valoracion  \n",
       "0               Iron Man, Pepper Potts, Obadiah Stane         7.9  \n",
       "1               Iron Man, Capitan America, Thor, Hulk         8.0  \n",
       "2          Black Panther, T'Challa, Killmonger, Shuri         7.3  \n",
       "3   Iron Man, Capitan America, Thor, Thanos, Spide...         7.5  \n",
       "4   Iron Man, Capitan America, Thor, Thanos, Spide...         8.4  \n",
       "5             Spiderman, Doctor Strange, Green Goblin         8.2  \n",
       "6              Star-Lord, Gamora, Drax, Rocket, Groot         8.0  \n",
       "7                        Stephen Strange, Wong, Mordo         7.5  \n",
       "8                              Thor, Loki, Hela, Hulk         7.9  \n",
       "9                     Carol Danvers, Nick Fury, Talos         6.8  \n",
       "10                Scott Lang, Hope van Dyne, Hank Pym         7.0  \n",
       "11  Star-Lord, Gamora, Drax, Rocket, Groot, Mantis...         6.7  \n",
       "12  Caballero negro, Ikaris, Ajak, Sprite, Thena, ...         5.4  \n",
       "13    Gorr, Thor, Zeus, Korg, King Valkyrie, Heimdall         5.3  "
      ]
     },
     "execution_count": 8,
     "metadata": {},
     "output_type": "execute_result"
    }
   ],
   "source": [
    "# Cargar Datos\n",
    "\n",
    "# Cargar los datos desde un archivo CSV\n",
    "data = pd.read_csv('data/marvel_movies.csv')\n",
    "\n",
    "# Mostrar las primeras filas del DataFrame para verificar que los datos se cargaron correctamente\n",
    "data"
   ]
  },
  {
   "cell_type": "markdown",
   "metadata": {},
   "source": [
    "# Procesar Datos\n",
    "Realizar el procesamiento necesario de los datos, como limpieza y transformación."
   ]
  },
  {
   "cell_type": "code",
   "execution_count": null,
   "metadata": {},
   "outputs": [
    {
     "ename": "KeyError",
     "evalue": "'fecha'",
     "output_type": "error",
     "traceback": [
      "\u001b[31m---------------------------------------------------------------------------\u001b[39m",
      "\u001b[31mKeyError\u001b[39m                                  Traceback (most recent call last)",
      "\u001b[36mFile \u001b[39m\u001b[32m~/Documents/CIENCIADEDATOS/PYTHONCIENCIA/.venv/lib/python3.13/site-packages/pandas/core/indexes/base.py:3805\u001b[39m, in \u001b[36mIndex.get_loc\u001b[39m\u001b[34m(self, key)\u001b[39m\n\u001b[32m   3804\u001b[39m \u001b[38;5;28;01mtry\u001b[39;00m:\n\u001b[32m-> \u001b[39m\u001b[32m3805\u001b[39m     \u001b[38;5;28;01mreturn\u001b[39;00m \u001b[38;5;28;43mself\u001b[39;49m\u001b[43m.\u001b[49m\u001b[43m_engine\u001b[49m\u001b[43m.\u001b[49m\u001b[43mget_loc\u001b[49m\u001b[43m(\u001b[49m\u001b[43mcasted_key\u001b[49m\u001b[43m)\u001b[49m\n\u001b[32m   3806\u001b[39m \u001b[38;5;28;01mexcept\u001b[39;00m \u001b[38;5;167;01mKeyError\u001b[39;00m \u001b[38;5;28;01mas\u001b[39;00m err:\n",
      "\u001b[36mFile \u001b[39m\u001b[32mindex.pyx:167\u001b[39m, in \u001b[36mpandas._libs.index.IndexEngine.get_loc\u001b[39m\u001b[34m()\u001b[39m\n",
      "\u001b[36mFile \u001b[39m\u001b[32mindex.pyx:196\u001b[39m, in \u001b[36mpandas._libs.index.IndexEngine.get_loc\u001b[39m\u001b[34m()\u001b[39m\n",
      "\u001b[36mFile \u001b[39m\u001b[32mpandas/_libs/hashtable_class_helper.pxi:7081\u001b[39m, in \u001b[36mpandas._libs.hashtable.PyObjectHashTable.get_item\u001b[39m\u001b[34m()\u001b[39m\n",
      "\u001b[36mFile \u001b[39m\u001b[32mpandas/_libs/hashtable_class_helper.pxi:7089\u001b[39m, in \u001b[36mpandas._libs.hashtable.PyObjectHashTable.get_item\u001b[39m\u001b[34m()\u001b[39m\n",
      "\u001b[31mKeyError\u001b[39m: 'fecha'",
      "\nThe above exception was the direct cause of the following exception:\n",
      "\u001b[31mKeyError\u001b[39m                                  Traceback (most recent call last)",
      "\u001b[36mCell\u001b[39m\u001b[36m \u001b[39m\u001b[32mIn[7]\u001b[39m\u001b[32m, line 13\u001b[39m\n\u001b[32m      9\u001b[39m data_cleaned = data.dropna()\n\u001b[32m     11\u001b[39m \u001b[38;5;66;03m# Convertir columnas a tipos de datos adecuados si es necesario\u001b[39;00m\n\u001b[32m     12\u001b[39m \u001b[38;5;66;03m# Por ejemplo, convertir una columna de fechas a tipo datetime\u001b[39;00m\n\u001b[32m---> \u001b[39m\u001b[32m13\u001b[39m data_cleaned[\u001b[33m'\u001b[39m\u001b[33mfecha\u001b[39m\u001b[33m'\u001b[39m] = pd.to_datetime(\u001b[43mdata_cleaned\u001b[49m\u001b[43m[\u001b[49m\u001b[33;43m'\u001b[39;49m\u001b[33;43mfecha\u001b[39;49m\u001b[33;43m'\u001b[39;49m\u001b[43m]\u001b[49m)\n\u001b[32m     15\u001b[39m \u001b[38;5;66;03m# Filtrar datos según algún criterio\u001b[39;00m\n\u001b[32m     16\u001b[39m \u001b[38;5;66;03m# Por ejemplo, seleccionar datos de un rango de fechas específico\u001b[39;00m\n\u001b[32m     17\u001b[39m data_filtered = data_cleaned[(data_cleaned[\u001b[33m'\u001b[39m\u001b[33mfecha\u001b[39m\u001b[33m'\u001b[39m] >= \u001b[33m'\u001b[39m\u001b[33m2020-01-01\u001b[39m\u001b[33m'\u001b[39m) & (data_cleaned[\u001b[33m'\u001b[39m\u001b[33mfecha\u001b[39m\u001b[33m'\u001b[39m] <= \u001b[33m'\u001b[39m\u001b[33m2020-12-31\u001b[39m\u001b[33m'\u001b[39m)]\n",
      "\u001b[36mFile \u001b[39m\u001b[32m~/Documents/CIENCIADEDATOS/PYTHONCIENCIA/.venv/lib/python3.13/site-packages/pandas/core/frame.py:4102\u001b[39m, in \u001b[36mDataFrame.__getitem__\u001b[39m\u001b[34m(self, key)\u001b[39m\n\u001b[32m   4100\u001b[39m \u001b[38;5;28;01mif\u001b[39;00m \u001b[38;5;28mself\u001b[39m.columns.nlevels > \u001b[32m1\u001b[39m:\n\u001b[32m   4101\u001b[39m     \u001b[38;5;28;01mreturn\u001b[39;00m \u001b[38;5;28mself\u001b[39m._getitem_multilevel(key)\n\u001b[32m-> \u001b[39m\u001b[32m4102\u001b[39m indexer = \u001b[38;5;28;43mself\u001b[39;49m\u001b[43m.\u001b[49m\u001b[43mcolumns\u001b[49m\u001b[43m.\u001b[49m\u001b[43mget_loc\u001b[49m\u001b[43m(\u001b[49m\u001b[43mkey\u001b[49m\u001b[43m)\u001b[49m\n\u001b[32m   4103\u001b[39m \u001b[38;5;28;01mif\u001b[39;00m is_integer(indexer):\n\u001b[32m   4104\u001b[39m     indexer = [indexer]\n",
      "\u001b[36mFile \u001b[39m\u001b[32m~/Documents/CIENCIADEDATOS/PYTHONCIENCIA/.venv/lib/python3.13/site-packages/pandas/core/indexes/base.py:3812\u001b[39m, in \u001b[36mIndex.get_loc\u001b[39m\u001b[34m(self, key)\u001b[39m\n\u001b[32m   3807\u001b[39m     \u001b[38;5;28;01mif\u001b[39;00m \u001b[38;5;28misinstance\u001b[39m(casted_key, \u001b[38;5;28mslice\u001b[39m) \u001b[38;5;129;01mor\u001b[39;00m (\n\u001b[32m   3808\u001b[39m         \u001b[38;5;28misinstance\u001b[39m(casted_key, abc.Iterable)\n\u001b[32m   3809\u001b[39m         \u001b[38;5;129;01mand\u001b[39;00m \u001b[38;5;28many\u001b[39m(\u001b[38;5;28misinstance\u001b[39m(x, \u001b[38;5;28mslice\u001b[39m) \u001b[38;5;28;01mfor\u001b[39;00m x \u001b[38;5;129;01min\u001b[39;00m casted_key)\n\u001b[32m   3810\u001b[39m     ):\n\u001b[32m   3811\u001b[39m         \u001b[38;5;28;01mraise\u001b[39;00m InvalidIndexError(key)\n\u001b[32m-> \u001b[39m\u001b[32m3812\u001b[39m     \u001b[38;5;28;01mraise\u001b[39;00m \u001b[38;5;167;01mKeyError\u001b[39;00m(key) \u001b[38;5;28;01mfrom\u001b[39;00m\u001b[38;5;250m \u001b[39m\u001b[34;01merr\u001b[39;00m\n\u001b[32m   3813\u001b[39m \u001b[38;5;28;01mexcept\u001b[39;00m \u001b[38;5;167;01mTypeError\u001b[39;00m:\n\u001b[32m   3814\u001b[39m     \u001b[38;5;66;03m# If we have a listlike key, _check_indexing_error will raise\u001b[39;00m\n\u001b[32m   3815\u001b[39m     \u001b[38;5;66;03m#  InvalidIndexError. Otherwise we fall through and re-raise\u001b[39;00m\n\u001b[32m   3816\u001b[39m     \u001b[38;5;66;03m#  the TypeError.\u001b[39;00m\n\u001b[32m   3817\u001b[39m     \u001b[38;5;28mself\u001b[39m._check_indexing_error(key)\n",
      "\u001b[31mKeyError\u001b[39m: 'fecha'"
     ]
    }
   ],
   "source": [
    "# Procesar Datos\n",
    "\n",
    "# Eliminar filas con valores nulos\n",
    "data_cleaned = data.dropna()\n",
    "\n",
    "# Convertir columnas a tipos de datos adecuados si es necesario\n",
    "# Por ejemplo, convertir una columna de fechas a tipo datetime\n",
    "data_cleaned['fecha'] = pd.to_datetime(data_cleaned['fecha'])\n",
    "\n",
    "# Filtrar datos según algún criterio\n",
    "# Por ejemplo, seleccionar datos de un rango de fechas específico\n",
    "data_filtered = data_cleaned[(data_cleaned['fecha'] >= '2020-01-01') & (data_cleaned['fecha'] <= '2020-12-31')]\n",
    "\n",
    "# Mostrar las primeras filas del DataFrame procesado para verificar los cambios\n",
    "data_filtered.head()"
   ]
  },
  {
   "cell_type": "markdown",
   "metadata": {},
   "source": [
    "# Visualización de Datos\n",
    "Utilizar matplotlib para crear gráficos que visualicen los datos procesados."
   ]
  },
  {
   "cell_type": "code",
   "execution_count": 5,
   "metadata": {},
   "outputs": [
    {
     "ename": "NameError",
     "evalue": "name 'data_filtered' is not defined",
     "output_type": "error",
     "traceback": [
      "\u001b[31m---------------------------------------------------------------------------\u001b[39m",
      "\u001b[31mNameError\u001b[39m                                 Traceback (most recent call last)",
      "\u001b[36mCell\u001b[39m\u001b[36m \u001b[39m\u001b[32mIn[5]\u001b[39m\u001b[32m, line 5\u001b[39m\n\u001b[32m      1\u001b[39m \u001b[38;5;66;03m# Visualización de Datos\u001b[39;00m\n\u001b[32m      2\u001b[39m \n\u001b[32m      3\u001b[39m \u001b[38;5;66;03m# Crear un gráfico de líneas para visualizar una serie temporal\u001b[39;00m\n\u001b[32m      4\u001b[39m plt.figure(figsize=(\u001b[32m10\u001b[39m, \u001b[32m6\u001b[39m))\n\u001b[32m----> \u001b[39m\u001b[32m5\u001b[39m plt.plot(\u001b[43mdata_filtered\u001b[49m[\u001b[33m'\u001b[39m\u001b[33mfecha\u001b[39m\u001b[33m'\u001b[39m], data_filtered[\u001b[33m'\u001b[39m\u001b[33mvalor\u001b[39m\u001b[33m'\u001b[39m], label=\u001b[33m'\u001b[39m\u001b[33mValor\u001b[39m\u001b[33m'\u001b[39m)\n\u001b[32m      6\u001b[39m plt.xlabel(\u001b[33m'\u001b[39m\u001b[33mFecha\u001b[39m\u001b[33m'\u001b[39m)\n\u001b[32m      7\u001b[39m plt.ylabel(\u001b[33m'\u001b[39m\u001b[33mValor\u001b[39m\u001b[33m'\u001b[39m)\n",
      "\u001b[31mNameError\u001b[39m: name 'data_filtered' is not defined"
     ]
    },
    {
     "data": {
      "text/plain": [
       "<Figure size 1000x600 with 0 Axes>"
      ]
     },
     "metadata": {},
     "output_type": "display_data"
    }
   ],
   "source": [
    "# Visualización de Datos\n",
    "\n",
    "# Crear un gráfico de líneas para visualizar una serie temporal\n",
    "plt.figure(figsize=(10, 6))\n",
    "plt.plot(data_filtered['fecha'], data_filtered['valor'], label='Valor')\n",
    "plt.xlabel('Fecha')\n",
    "plt.ylabel('Valor')\n",
    "plt.title('Serie Temporal de Valores')\n",
    "plt.legend()\n",
    "plt.grid(True)\n",
    "plt.show()\n",
    "\n",
    "# Crear un histograma para visualizar la distribución de los valores\n",
    "plt.figure(figsize=(10, 6))\n",
    "plt.hist(data_filtered['valor'], bins=30, edgecolor='k', alpha=0.7)\n",
    "plt.xlabel('Valor')\n",
    "plt.ylabel('Frecuencia')\n",
    "plt.title('Distribución de Valores')\n",
    "plt.grid(True)\n",
    "plt.show()\n",
    "\n",
    "# Crear un gráfico de dispersión para visualizar la relación entre dos variables\n",
    "plt.figure(figsize=(10, 6))\n",
    "plt.scatter(data_filtered['variable_x'], data_filtered['variable_y'], alpha=0.7)\n",
    "plt.xlabel('Variable X')\n",
    "plt.ylabel('Variable Y')\n",
    "plt.title('Relación entre Variable X y Variable Y')\n",
    "plt.grid(True)\n",
    "plt.show()"
   ]
  }
 ],
 "metadata": {
  "kernelspec": {
   "display_name": ".venv",
   "language": "python",
   "name": "python3"
  },
  "language_info": {
   "codemirror_mode": {
    "name": "ipython",
    "version": 3
   },
   "file_extension": ".py",
   "mimetype": "text/x-python",
   "name": "python",
   "nbconvert_exporter": "python",
   "pygments_lexer": "ipython3",
   "version": "3.13.2"
  }
 },
 "nbformat": 4,
 "nbformat_minor": 2
}
